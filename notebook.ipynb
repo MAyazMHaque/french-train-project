{
    "metadata": {
        "kernelspec": {
            "name": "python3",
            "display_name": "Python 3 (ipykernel)",
            "language": "python"
        },
        "language_info": {
            "name": "python",
            "version": "3.8.10",
            "mimetype": "text/x-python",
            "codemirror_mode": {
                "name": "ipython",
                "version": 3
            },
            "pygments_lexer": "ipython3",
            "nbconvert_exporter": "python",
            "file_extension": ".py"
        }
    },
    "nbformat_minor": 2,
    "nbformat": 4,
    "cells": [
        {
            "cell_type": "code",
            "source": [
                "import pandas as pd\r\n",
                "import numpy as np\r\n",
                "\r\n",
                "full_trains = pd.read_csv(\"https://raw.githubusercontent.com/rfordatascience/tidytuesday/master/data/2019/2019-02-26/full_trains.csv\")\r\n",
                "small_train = pd.read_csv(\"https://raw.githubusercontent.com/rfordatascience/tidytuesday/master/data/2019/2019-02-26/small_trains.csv\")"
            ],
            "metadata": {
                "azdata_cell_guid": "e01ec4f2-d301-4b96-af28-d5f3a53c39c2"
            },
            "outputs": [],
            "execution_count": 4
        },
        {
            "cell_type": "code",
            "source": [
                "small_train.head()"
            ],
            "metadata": {
                "azdata_cell_guid": "fe46b6f1-5dc5-4803-a040-ca128b0dcf5d"
            },
            "outputs": [
                {
                    "data": {
                        "text/plain": "   year  month   service departure_station   arrival_station  \\\n0  2017      9  National         PARIS EST              METZ   \n1  2017      9  National             REIMS         PARIS EST   \n2  2017      9  National         PARIS EST        STRASBOURG   \n3  2017      9  National        PARIS LYON       AVIGNON TGV   \n4  2017      9  National        PARIS LYON  BELLEGARDE (AIN)   \n\n   journey_time_avg  total_num_trips  avg_delay_all_departing  \\\n0         85.133779              299                 0.752007   \n1         47.064516              218                 1.263518   \n2        116.234940              333                 1.139257   \n3        161.089583              481                 1.406215   \n4        164.452632              190                 1.728947   \n\n   avg_delay_all_arriving  num_late_at_departure  num_arriving_late  \\\n0                0.419844                     15               17.0   \n1                1.137558                     10               23.0   \n2                1.586396                     20               19.0   \n3                4.788542                     36               61.0   \n4                6.008860                     16               38.0   \n\n                  delay_cause  delayed_number  \n0  delay_cause_external_cause        0.250000  \n1  delay_cause_external_cause        0.250000  \n2  delay_cause_external_cause        0.214286  \n3  delay_cause_external_cause        0.155172  \n4  delay_cause_external_cause        0.166667  ",
                        "text/html": "<div>\n<style scoped>\n    .dataframe tbody tr th:only-of-type {\n        vertical-align: middle;\n    }\n\n    .dataframe tbody tr th {\n        vertical-align: top;\n    }\n\n    .dataframe thead th {\n        text-align: right;\n    }\n</style>\n<table border=\"1\" class=\"dataframe\">\n  <thead>\n    <tr style=\"text-align: right;\">\n      <th></th>\n      <th>year</th>\n      <th>month</th>\n      <th>service</th>\n      <th>departure_station</th>\n      <th>arrival_station</th>\n      <th>journey_time_avg</th>\n      <th>total_num_trips</th>\n      <th>avg_delay_all_departing</th>\n      <th>avg_delay_all_arriving</th>\n      <th>num_late_at_departure</th>\n      <th>num_arriving_late</th>\n      <th>delay_cause</th>\n      <th>delayed_number</th>\n    </tr>\n  </thead>\n  <tbody>\n    <tr>\n      <th>0</th>\n      <td>2017</td>\n      <td>9</td>\n      <td>National</td>\n      <td>PARIS EST</td>\n      <td>METZ</td>\n      <td>85.133779</td>\n      <td>299</td>\n      <td>0.752007</td>\n      <td>0.419844</td>\n      <td>15</td>\n      <td>17.0</td>\n      <td>delay_cause_external_cause</td>\n      <td>0.250000</td>\n    </tr>\n    <tr>\n      <th>1</th>\n      <td>2017</td>\n      <td>9</td>\n      <td>National</td>\n      <td>REIMS</td>\n      <td>PARIS EST</td>\n      <td>47.064516</td>\n      <td>218</td>\n      <td>1.263518</td>\n      <td>1.137558</td>\n      <td>10</td>\n      <td>23.0</td>\n      <td>delay_cause_external_cause</td>\n      <td>0.250000</td>\n    </tr>\n    <tr>\n      <th>2</th>\n      <td>2017</td>\n      <td>9</td>\n      <td>National</td>\n      <td>PARIS EST</td>\n      <td>STRASBOURG</td>\n      <td>116.234940</td>\n      <td>333</td>\n      <td>1.139257</td>\n      <td>1.586396</td>\n      <td>20</td>\n      <td>19.0</td>\n      <td>delay_cause_external_cause</td>\n      <td>0.214286</td>\n    </tr>\n    <tr>\n      <th>3</th>\n      <td>2017</td>\n      <td>9</td>\n      <td>National</td>\n      <td>PARIS LYON</td>\n      <td>AVIGNON TGV</td>\n      <td>161.089583</td>\n      <td>481</td>\n      <td>1.406215</td>\n      <td>4.788542</td>\n      <td>36</td>\n      <td>61.0</td>\n      <td>delay_cause_external_cause</td>\n      <td>0.155172</td>\n    </tr>\n    <tr>\n      <th>4</th>\n      <td>2017</td>\n      <td>9</td>\n      <td>National</td>\n      <td>PARIS LYON</td>\n      <td>BELLEGARDE (AIN)</td>\n      <td>164.452632</td>\n      <td>190</td>\n      <td>1.728947</td>\n      <td>6.008860</td>\n      <td>16</td>\n      <td>38.0</td>\n      <td>delay_cause_external_cause</td>\n      <td>0.166667</td>\n    </tr>\n  </tbody>\n</table>\n</div>"
                    },
                    "metadata": {},
                    "execution_count": 7,
                    "output_type": "execute_result"
                }
            ],
            "execution_count": 7
        },
        {
            "cell_type": "code",
            "source": [
                "full_trains.head()"
            ],
            "metadata": {
                "azdata_cell_guid": "afe7ce11-89b1-4f97-ad7a-7f2d504ccd7f"
            },
            "outputs": [
                {
                    "data": {
                        "text/plain": "   year  month   service departure_station   arrival_station  \\\n0  2017      9  National         PARIS EST              METZ   \n1  2017      9  National             REIMS         PARIS EST   \n2  2017      9  National         PARIS EST        STRASBOURG   \n3  2017      9  National        PARIS LYON       AVIGNON TGV   \n4  2017      9  National        PARIS LYON  BELLEGARDE (AIN)   \n\n   journey_time_avg  total_num_trips  num_of_canceled_trains  \\\n0         85.133779              299                       0   \n1         47.064516              218                       1   \n2        116.234940              333                       1   \n3        161.089583              481                       1   \n4        164.452632              190                       0   \n\n   comment_cancellations  num_late_at_departure  ...  \\\n0                    NaN                     15  ...   \n1                    NaN                     10  ...   \n2                    NaN                     20  ...   \n3                    NaN                     36  ...   \n4                    NaN                     16  ...   \n\n   delay_cause_external_cause  delay_cause_rail_infrastructure  \\\n0                    0.250000                         0.000000   \n1                    0.250000                         0.375000   \n2                    0.214286                         0.214286   \n3                    0.155172                         0.120690   \n4                    0.166667                         0.250000   \n\n   delay_cause_traffic_management  delay_cause_rolling_stock  \\\n0                        0.166667                   0.416667   \n1                        0.125000                   0.125000   \n2                        0.071429                   0.285714   \n3                        0.310345                   0.344828   \n4                        0.250000                   0.305556   \n\n   delay_cause_station_management  delay_cause_travelers  \\\n0                        0.166667               0.000000   \n1                        0.062500               0.062500   \n2                        0.214286               0.000000   \n3                        0.034483               0.034483   \n4                        0.000000               0.027778   \n\n  num_greater_15_min_late  avg_delay_late_greater_15_min  \\\n0                     6.0                      24.033333   \n1                     9.0                      21.498148   \n2                    14.0                      24.694048   \n3                    40.0                      34.047500   \n4                    26.0                      28.401282   \n\n   num_greater_30_min_late  num_greater_60_min_late  \n0                      1.0                      0.0  \n1                      1.0                      0.0  \n2                      3.0                      0.0  \n3                     21.0                      5.0  \n4                      8.0                      1.0  \n\n[5 rows x 27 columns]",
                        "text/html": "<div>\n<style scoped>\n    .dataframe tbody tr th:only-of-type {\n        vertical-align: middle;\n    }\n\n    .dataframe tbody tr th {\n        vertical-align: top;\n    }\n\n    .dataframe thead th {\n        text-align: right;\n    }\n</style>\n<table border=\"1\" class=\"dataframe\">\n  <thead>\n    <tr style=\"text-align: right;\">\n      <th></th>\n      <th>year</th>\n      <th>month</th>\n      <th>service</th>\n      <th>departure_station</th>\n      <th>arrival_station</th>\n      <th>journey_time_avg</th>\n      <th>total_num_trips</th>\n      <th>num_of_canceled_trains</th>\n      <th>comment_cancellations</th>\n      <th>num_late_at_departure</th>\n      <th>...</th>\n      <th>delay_cause_external_cause</th>\n      <th>delay_cause_rail_infrastructure</th>\n      <th>delay_cause_traffic_management</th>\n      <th>delay_cause_rolling_stock</th>\n      <th>delay_cause_station_management</th>\n      <th>delay_cause_travelers</th>\n      <th>num_greater_15_min_late</th>\n      <th>avg_delay_late_greater_15_min</th>\n      <th>num_greater_30_min_late</th>\n      <th>num_greater_60_min_late</th>\n    </tr>\n  </thead>\n  <tbody>\n    <tr>\n      <th>0</th>\n      <td>2017</td>\n      <td>9</td>\n      <td>National</td>\n      <td>PARIS EST</td>\n      <td>METZ</td>\n      <td>85.133779</td>\n      <td>299</td>\n      <td>0</td>\n      <td>NaN</td>\n      <td>15</td>\n      <td>...</td>\n      <td>0.250000</td>\n      <td>0.000000</td>\n      <td>0.166667</td>\n      <td>0.416667</td>\n      <td>0.166667</td>\n      <td>0.000000</td>\n      <td>6.0</td>\n      <td>24.033333</td>\n      <td>1.0</td>\n      <td>0.0</td>\n    </tr>\n    <tr>\n      <th>1</th>\n      <td>2017</td>\n      <td>9</td>\n      <td>National</td>\n      <td>REIMS</td>\n      <td>PARIS EST</td>\n      <td>47.064516</td>\n      <td>218</td>\n      <td>1</td>\n      <td>NaN</td>\n      <td>10</td>\n      <td>...</td>\n      <td>0.250000</td>\n      <td>0.375000</td>\n      <td>0.125000</td>\n      <td>0.125000</td>\n      <td>0.062500</td>\n      <td>0.062500</td>\n      <td>9.0</td>\n      <td>21.498148</td>\n      <td>1.0</td>\n      <td>0.0</td>\n    </tr>\n    <tr>\n      <th>2</th>\n      <td>2017</td>\n      <td>9</td>\n      <td>National</td>\n      <td>PARIS EST</td>\n      <td>STRASBOURG</td>\n      <td>116.234940</td>\n      <td>333</td>\n      <td>1</td>\n      <td>NaN</td>\n      <td>20</td>\n      <td>...</td>\n      <td>0.214286</td>\n      <td>0.214286</td>\n      <td>0.071429</td>\n      <td>0.285714</td>\n      <td>0.214286</td>\n      <td>0.000000</td>\n      <td>14.0</td>\n      <td>24.694048</td>\n      <td>3.0</td>\n      <td>0.0</td>\n    </tr>\n    <tr>\n      <th>3</th>\n      <td>2017</td>\n      <td>9</td>\n      <td>National</td>\n      <td>PARIS LYON</td>\n      <td>AVIGNON TGV</td>\n      <td>161.089583</td>\n      <td>481</td>\n      <td>1</td>\n      <td>NaN</td>\n      <td>36</td>\n      <td>...</td>\n      <td>0.155172</td>\n      <td>0.120690</td>\n      <td>0.310345</td>\n      <td>0.344828</td>\n      <td>0.034483</td>\n      <td>0.034483</td>\n      <td>40.0</td>\n      <td>34.047500</td>\n      <td>21.0</td>\n      <td>5.0</td>\n    </tr>\n    <tr>\n      <th>4</th>\n      <td>2017</td>\n      <td>9</td>\n      <td>National</td>\n      <td>PARIS LYON</td>\n      <td>BELLEGARDE (AIN)</td>\n      <td>164.452632</td>\n      <td>190</td>\n      <td>0</td>\n      <td>NaN</td>\n      <td>16</td>\n      <td>...</td>\n      <td>0.166667</td>\n      <td>0.250000</td>\n      <td>0.250000</td>\n      <td>0.305556</td>\n      <td>0.000000</td>\n      <td>0.027778</td>\n      <td>26.0</td>\n      <td>28.401282</td>\n      <td>8.0</td>\n      <td>1.0</td>\n    </tr>\n  </tbody>\n</table>\n<p>5 rows × 27 columns</p>\n</div>"
                    },
                    "metadata": {},
                    "execution_count": 8,
                    "output_type": "execute_result"
                }
            ],
            "execution_count": 8
        }
    ]
}